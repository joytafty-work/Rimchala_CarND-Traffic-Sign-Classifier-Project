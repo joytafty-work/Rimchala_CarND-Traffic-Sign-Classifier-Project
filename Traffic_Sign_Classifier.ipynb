{
 "cells": [
  {
   "cell_type": "markdown",
   "metadata": {
    "deletable": true,
    "editable": true
   },
   "source": [
    "# Self-Driving Car Engineer Nanodegree\n",
    "\n",
    "## Deep Learning\n",
    "\n",
    "## Project: Build a Traffic Sign Recognition Classifier\n",
    "\n",
    "In this notebook, a template is provided for you to implement your functionality in stages, which is required to successfully complete this project. If additional code is required that cannot be included in the notebook, be sure that the Python code is successfully imported and included in your submission if necessary. \n",
    "\n",
    "> **Note**: Once you have completed all of the code implementations, you need to finalize your work by exporting the iPython Notebook as an HTML document. Before exporting the notebook to html, all of the code cells need to have been run so that reviewers can see the final implementation and output. You can then export the notebook by using the menu above and navigating to  \\n\",\n",
    "    \"**File -> Download as -> HTML (.html)**. Include the finished document along with this notebook as your submission. \n",
    "\n",
    "In addition to implementing code, there is a writeup to complete. The writeup should be completed in a separate file, which can be either a markdown file or a pdf document. There is a [write up template](https://github.com/udacity/CarND-Traffic-Sign-Classifier-Project/blob/master/writeup_template.md) that can be used to guide the writing process. Completing the code template and writeup template will cover all of the [rubric points](https://review.udacity.com/#!/rubrics/481/view) for this project.\n",
    "\n",
    "The [rubric](https://review.udacity.com/#!/rubrics/481/view) contains \"Stand Out Suggestions\" for enhancing the project beyond the minimum requirements. The stand out suggestions are optional. If you decide to pursue the \"stand out suggestions\", you can include the code in this Ipython notebook and also discuss the results in the writeup file.\n",
    "\n",
    "\n",
    ">**Note:** Code and Markdown cells can be executed using the **Shift + Enter** keyboard shortcut. In addition, Markdown cells can be edited by typically double-clicking the cell to enter edit mode."
   ]
  },
  {
   "cell_type": "markdown",
   "metadata": {
    "deletable": true,
    "editable": true
   },
   "source": [
    "---\n",
    "## Step 0: Load The Data"
   ]
  },
  {
   "cell_type": "code",
   "execution_count": 1,
   "metadata": {
    "collapsed": true,
    "deletable": true,
    "editable": true
   },
   "outputs": [],
   "source": [
    "# Load pickled data\n",
    "import pickle\n",
    "\n",
    "# TODO: Fill this in based on where you saved the training and testing data\n",
    "\n",
    "training_file = './traffic-signs-data/train.p'\n",
    "validation_file='./traffic-signs-data/valid.p'\n",
    "testing_file = './traffic-signs-data/test.p'\n",
    "\n",
    "with open(training_file, mode='rb') as f:\n",
    "    train = pickle.load(f)\n",
    "with open(validation_file, mode='rb') as f:\n",
    "    valid = pickle.load(f)\n",
    "with open(testing_file, mode='rb') as f:\n",
    "    test = pickle.load(f)\n",
    "    \n",
    "X_train, y_train = train['features'], train['labels']\n",
    "X_valid, y_valid = valid['features'], valid['labels']\n",
    "X_test, y_test = test['features'], test['labels']"
   ]
  },
  {
   "cell_type": "markdown",
   "metadata": {
    "deletable": true,
    "editable": true
   },
   "source": [
    "---\n",
    "\n",
    "## Step 1: Dataset Summary & Exploration\n",
    "\n",
    "The pickled data is a dictionary with 4 key/value pairs:\n",
    "\n",
    "- `'features'` is a 4D array containing raw pixel data of the traffic sign images, (num examples, width, height, channels).\n",
    "- `'labels'` is a 1D array containing the label/class id of the traffic sign. The file `signnames.csv` contains id -> name mappings for each id.\n",
    "- `'sizes'` is a list containing tuples, (width, height) representing the original width and height the image.\n",
    "- `'coords'` is a list containing tuples, (x1, y1, x2, y2) representing coordinates of a bounding box around the sign in the image. **THESE COORDINATES ASSUME THE ORIGINAL IMAGE. THE PICKLED DATA CONTAINS RESIZED VERSIONS (32 by 32) OF THESE IMAGES**\n",
    "\n",
    "Complete the basic data summary below. Use python, numpy and/or pandas methods to calculate the data summary rather than hard coding the results. For example, the [pandas shape method](http://pandas.pydata.org/pandas-docs/stable/generated/pandas.DataFrame.shape.html) might be useful for calculating some of the summary results. "
   ]
  },
  {
   "cell_type": "markdown",
   "metadata": {
    "deletable": true,
    "editable": true
   },
   "source": [
    "### Provide a Basic Summary of the Data Set Using Python, Numpy and/or Pandas"
   ]
  },
  {
   "cell_type": "code",
   "execution_count": 2,
   "metadata": {
    "collapsed": false,
    "deletable": true,
    "editable": true
   },
   "outputs": [
    {
     "name": "stdout",
     "output_type": "stream",
     "text": [
      "Number of training examples = 34799\n",
      "Number of training examples = 4410\n",
      "Number of testing examples = 12630\n",
      "Image data shape = (32, 32, 3)\n",
      "Number of classes = 43\n"
     ]
    }
   ],
   "source": [
    "### Replace each question mark with the appropriate value. \n",
    "### Use python, pandas or numpy methods rather than hard coding the results\n",
    "\n",
    "# TODO: Number of training examples\n",
    "n_train = len(y_train)\n",
    "\n",
    "# TODO: Number of validation examples\n",
    "n_validation = len(y_valid)\n",
    "\n",
    "# TODO: Number of testing examples.\n",
    "n_test = len(y_test)\n",
    "\n",
    "# TODO: What's the shape of an traffic sign image?\n",
    "image_shape = X_train[0].shape\n",
    "\n",
    "# TODO: How many unique classes/labels there are in the dataset.\n",
    "n_classes = len(set(y_train))\n",
    "\n",
    "print(\"Number of training examples =\", n_train)\n",
    "print(\"Number of training examples =\", n_validation)\n",
    "print(\"Number of testing examples =\", n_test)\n",
    "print(\"Image data shape =\", image_shape)\n",
    "print(\"Number of classes =\", n_classes)"
   ]
  },
  {
   "cell_type": "markdown",
   "metadata": {
    "deletable": true,
    "editable": true
   },
   "source": [
    "### Include an exploratory visualization of the dataset"
   ]
  },
  {
   "cell_type": "markdown",
   "metadata": {
    "deletable": true,
    "editable": true
   },
   "source": [
    "Visualize the German Traffic Signs Dataset using the pickled file(s). This is open ended, suggestions include: plotting traffic sign images, plotting the count of each sign, etc. \n",
    "\n",
    "The [Matplotlib](http://matplotlib.org/) [examples](http://matplotlib.org/examples/index.html) and [gallery](http://matplotlib.org/gallery.html) pages are a great resource for doing visualizations in Python.\n",
    "\n",
    "**NOTE:** It's recommended you start with something simple first. If you wish to do more, come back to it after you've completed the rest of the sections. It can be interesting to look at the distribution of classes in the training, validation and test set. Is the distribution the same? Are there more examples of some classes than others?"
   ]
  },
  {
   "cell_type": "code",
   "execution_count": 3,
   "metadata": {
    "collapsed": false,
    "deletable": true,
    "editable": true
   },
   "outputs": [
    {
     "name": "stdout",
     "output_type": "stream",
     "text": [
      "Populating the interactive namespace from numpy and matplotlib\n"
     ]
    },
    {
     "name": "stderr",
     "output_type": "stream",
     "text": [
      "/Users/trimchala/miniconda/envs/aind-dog/lib/python3.5/site-packages/IPython/core/magics/pylab.py:161: UserWarning: pylab import has clobbered these variables: ['f', 'test']\n",
      "`%matplotlib` prevents importing * from pylab and numpy\n",
      "  \"\\n`%matplotlib` prevents importing * from pylab and numpy\"\n"
     ]
    },
    {
     "data": {
      "image/png": "[encoded data removed]",
      "text/plain": [
       "<matplotlib.figure.Figure at 0x12a95ad30>"
      ]
     },
     "metadata": {},
     "output_type": "display_data"
    }
   ],
   "source": [
    "### Data exploration visualization code goes here.\n",
    "### Feel free to use as many code cells as needed.\n",
    "import matplotlib.pyplot as plt\n",
    "import numpy as np\n",
    "import pandas as pd\n",
    "from itertools import chain\n",
    "import seaborn as sns\n",
    "sns.set_context('poster')\n",
    "%pylab inline\n",
    "\n",
    "def assemble_df(X, y, set_name=''):\n",
    "    temp = pd.DataFrame()\n",
    "    temp['X'] = [x for x in X]\n",
    "    temp['y'] = y\n",
    "    temp['set'] = set_name\n",
    "    return temp\n",
    "\n",
    "train_df = assemble_df(X_train, y_train, 'train')\n",
    "validation_df = assemble_df(X_valid, y_valid, 'validation')\n",
    "test_df = assemble_df(X_test, y_test, 'test')\n",
    "\n",
    "dataset_df = pd.concat([train_df, validation_df, test_df], axis=0)\n",
    "signname = pd.read_csv('signnames.csv')\n",
    "signname_dict = signname['SignName'].to_dict()\n",
    "class_idx = np.random.randint(low=0, high=n_classes, size = 1)[0]\n",
    "selected_signname = signname[signname['ClassId']==class_idx]['SignName'].values[0]\n",
    "\n",
    "f1, axes1 = plt.subplots(3, 4, sharex='col', sharey='row', figsize=(11, 8))\n",
    "plt.suptitle(\"class {}: signname: {}\".format(str(class_idx), selected_signname), fontsize=32)\n",
    "dataset_df = pd.merge(dataset_df, signname, left_on='y', right_on='ClassId', how='left')\n",
    "class_df = dataset_df[dataset_df['y']==class_idx].reset_index(drop=True)\n",
    "selected_image_indices = np.random.randint(low=0, high=len(class_df), size=12)\n",
    "images = class_df['X'].ix[selected_image_indices]\n",
    "for image, ax, idx in zip(images, chain(*axes1), selected_image_indices): \n",
    "    ax.imshow(image)\n",
    "    ax.set_title('im {}'.format(str(idx)))"
   ]
  },
  {
   "cell_type": "code",
   "execution_count": 4,
   "metadata": {
    "collapsed": false,
    "deletable": true,
    "editable": true
   },
   "outputs": [
    {
     "data": {
      "text/plain": [
       "<matplotlib.text.Text at 0x12e3a8be0>"
      ]
     },
     "execution_count": 4,
     "metadata": {},
     "output_type": "execute_result"
    },
    {
     "data": {
      "image/png": "[encoded data removed]",
      "text/plain": [
       "<matplotlib.figure.Figure at 0x10cd46978>"
      ]
     },
     "metadata": {},
     "output_type": "display_data"
    }
   ],
   "source": [
    "def compute_dataset_stat(y, sort_by_count=False):\n",
    "    ds_stat = (\n",
    "        pd.DataFrame(y, columns=['ClassId'])\n",
    "        .reset_index()\n",
    "        .groupby('ClassId')\n",
    "        .agg('count')\n",
    "        .reset_index()\n",
    "        .rename(columns={'index': 'count'})\n",
    "    )\n",
    "\n",
    "\n",
    "    ds_stat['SignName'] = ds_stat['ClassId'].apply(lambda x: signname_dict[x])\n",
    "    if sort_by_count: \n",
    "        return ds_stat.sort_values(by='count', ascending=False)\n",
    "    else: \n",
    "        return ds_stat\n",
    "\n",
    "training_set_stat = compute_dataset_stat(y_train)\n",
    "fig, ax = subplots(figsize=(17, 11))\n",
    "class_counts = training_set_stat.set_index('SignName')['count']\n",
    "class_counts.plot(kind='bar')\n",
    "ax.set_xlabel('SignName', fontsize=32)\n",
    "ax.set_ylabel('No.Images in training set', fontsize=32)"
   ]
  },
  {
   "cell_type": "code",
   "execution_count": 5,
   "metadata": {
    "collapsed": false
   },
   "outputs": [
    {
     "name": "stdout",
     "output_type": "stream",
     "text": [
      "min:  180\n",
      "max:  2010\n"
     ]
    },
    {
     "data": {
      "text/html": [
       "<div>\n",
       "<table border=\"1\" class=\"dataframe\">\n",
       "  <thead>\n",
       "    <tr style=\"text-align: right;\">\n",
       "      <th></th>\n",
       "      <th>SignName</th>\n",
       "      <th>count</th>\n",
       "    </tr>\n",
       "  </thead>\n",
       "  <tbody>\n",
       "    <tr>\n",
       "      <th>0</th>\n",
       "      <td>Speed limit (20km/h)</td>\n",
       "      <td>180</td>\n",
       "    </tr>\n",
       "    <tr>\n",
       "      <th>37</th>\n",
       "      <td>Go straight or left</td>\n",
       "      <td>180</td>\n",
       "    </tr>\n",
       "    <tr>\n",
       "      <th>19</th>\n",
       "      <td>Dangerous curve to the left</td>\n",
       "      <td>180</td>\n",
       "    </tr>\n",
       "    <tr>\n",
       "      <th>32</th>\n",
       "      <td>End of all speed and passing limits</td>\n",
       "      <td>210</td>\n",
       "    </tr>\n",
       "    <tr>\n",
       "      <th>27</th>\n",
       "      <td>Pedestrians</td>\n",
       "      <td>210</td>\n",
       "    </tr>\n",
       "    <tr>\n",
       "      <th>41</th>\n",
       "      <td>End of no passing</td>\n",
       "      <td>210</td>\n",
       "    </tr>\n",
       "    <tr>\n",
       "      <th>42</th>\n",
       "      <td>End of no passing by vehicles over 3.5 metric ...</td>\n",
       "      <td>210</td>\n",
       "    </tr>\n",
       "    <tr>\n",
       "      <th>24</th>\n",
       "      <td>Road narrows on the right</td>\n",
       "      <td>240</td>\n",
       "    </tr>\n",
       "    <tr>\n",
       "      <th>29</th>\n",
       "      <td>Bicycles crossing</td>\n",
       "      <td>240</td>\n",
       "    </tr>\n",
       "    <tr>\n",
       "      <th>39</th>\n",
       "      <td>Keep left</td>\n",
       "      <td>270</td>\n",
       "    </tr>\n",
       "    <tr>\n",
       "      <th>21</th>\n",
       "      <td>Double curve</td>\n",
       "      <td>270</td>\n",
       "    </tr>\n",
       "    <tr>\n",
       "      <th>40</th>\n",
       "      <td>Roundabout mandatory</td>\n",
       "      <td>300</td>\n",
       "    </tr>\n",
       "    <tr>\n",
       "      <th>20</th>\n",
       "      <td>Dangerous curve to the right</td>\n",
       "      <td>300</td>\n",
       "    </tr>\n",
       "    <tr>\n",
       "      <th>36</th>\n",
       "      <td>Go straight or right</td>\n",
       "      <td>330</td>\n",
       "    </tr>\n",
       "    <tr>\n",
       "      <th>22</th>\n",
       "      <td>Bumpy road</td>\n",
       "      <td>330</td>\n",
       "    </tr>\n",
       "    <tr>\n",
       "      <th>6</th>\n",
       "      <td>End of speed limit (80km/h)</td>\n",
       "      <td>360</td>\n",
       "    </tr>\n",
       "    <tr>\n",
       "      <th>16</th>\n",
       "      <td>Vehicles over 3.5 metric tons prohibited</td>\n",
       "      <td>360</td>\n",
       "    </tr>\n",
       "    <tr>\n",
       "      <th>34</th>\n",
       "      <td>Turn left ahead</td>\n",
       "      <td>360</td>\n",
       "    </tr>\n",
       "    <tr>\n",
       "      <th>30</th>\n",
       "      <td>Beware of ice/snow</td>\n",
       "      <td>390</td>\n",
       "    </tr>\n",
       "    <tr>\n",
       "      <th>23</th>\n",
       "      <td>Slippery road</td>\n",
       "      <td>450</td>\n",
       "    </tr>\n",
       "    <tr>\n",
       "      <th>28</th>\n",
       "      <td>Children crossing</td>\n",
       "      <td>480</td>\n",
       "    </tr>\n",
       "    <tr>\n",
       "      <th>26</th>\n",
       "      <td>Traffic signals</td>\n",
       "      <td>540</td>\n",
       "    </tr>\n",
       "    <tr>\n",
       "      <th>15</th>\n",
       "      <td>No vehicles</td>\n",
       "      <td>540</td>\n",
       "    </tr>\n",
       "    <tr>\n",
       "      <th>33</th>\n",
       "      <td>Turn right ahead</td>\n",
       "      <td>599</td>\n",
       "    </tr>\n",
       "    <tr>\n",
       "      <th>14</th>\n",
       "      <td>Stop</td>\n",
       "      <td>690</td>\n",
       "    </tr>\n",
       "    <tr>\n",
       "      <th>31</th>\n",
       "      <td>Wild animals crossing</td>\n",
       "      <td>690</td>\n",
       "    </tr>\n",
       "    <tr>\n",
       "      <th>17</th>\n",
       "      <td>No entry</td>\n",
       "      <td>990</td>\n",
       "    </tr>\n",
       "    <tr>\n",
       "      <th>18</th>\n",
       "      <td>General caution</td>\n",
       "      <td>1080</td>\n",
       "    </tr>\n",
       "    <tr>\n",
       "      <th>35</th>\n",
       "      <td>Ahead only</td>\n",
       "      <td>1080</td>\n",
       "    </tr>\n",
       "    <tr>\n",
       "      <th>11</th>\n",
       "      <td>Right-of-way at the next intersection</td>\n",
       "      <td>1170</td>\n",
       "    </tr>\n",
       "    <tr>\n",
       "      <th>3</th>\n",
       "      <td>Speed limit (60km/h)</td>\n",
       "      <td>1260</td>\n",
       "    </tr>\n",
       "    <tr>\n",
       "      <th>8</th>\n",
       "      <td>Speed limit (120km/h)</td>\n",
       "      <td>1260</td>\n",
       "    </tr>\n",
       "    <tr>\n",
       "      <th>7</th>\n",
       "      <td>Speed limit (100km/h)</td>\n",
       "      <td>1290</td>\n",
       "    </tr>\n",
       "    <tr>\n",
       "      <th>9</th>\n",
       "      <td>No passing</td>\n",
       "      <td>1320</td>\n",
       "    </tr>\n",
       "    <tr>\n",
       "      <th>25</th>\n",
       "      <td>Road work</td>\n",
       "      <td>1350</td>\n",
       "    </tr>\n",
       "    <tr>\n",
       "      <th>5</th>\n",
       "      <td>Speed limit (80km/h)</td>\n",
       "      <td>1650</td>\n",
       "    </tr>\n",
       "    <tr>\n",
       "      <th>4</th>\n",
       "      <td>Speed limit (70km/h)</td>\n",
       "      <td>1770</td>\n",
       "    </tr>\n",
       "    <tr>\n",
       "      <th>10</th>\n",
       "      <td>No passing for vehicles over 3.5 metric tons</td>\n",
       "      <td>1800</td>\n",
       "    </tr>\n",
       "    <tr>\n",
       "      <th>38</th>\n",
       "      <td>Keep right</td>\n",
       "      <td>1860</td>\n",
       "    </tr>\n",
       "    <tr>\n",
       "      <th>12</th>\n",
       "      <td>Priority road</td>\n",
       "      <td>1890</td>\n",
       "    </tr>\n",
       "    <tr>\n",
       "      <th>13</th>\n",
       "      <td>Yield</td>\n",
       "      <td>1920</td>\n",
       "    </tr>\n",
       "    <tr>\n",
       "      <th>1</th>\n",
       "      <td>Speed limit (30km/h)</td>\n",
       "      <td>1980</td>\n",
       "    </tr>\n",
       "    <tr>\n",
       "      <th>2</th>\n",
       "      <td>Speed limit (50km/h)</td>\n",
       "      <td>2010</td>\n",
       "    </tr>\n",
       "  </tbody>\n",
       "</table>\n",
       "</div>"
      ],
      "text/plain": [
       "                                             SignName  count\n",
       "0                                Speed limit (20km/h)    180\n",
       "37                                Go straight or left    180\n",
       "19                        Dangerous curve to the left    180\n",
       "32                End of all speed and passing limits    210\n",
       "27                                        Pedestrians    210\n",
       "41                                  End of no passing    210\n",
       "42  End of no passing by vehicles over 3.5 metric ...    210\n",
       "24                          Road narrows on the right    240\n",
       "29                                  Bicycles crossing    240\n",
       "39                                          Keep left    270\n",
       "21                                       Double curve    270\n",
       "40                               Roundabout mandatory    300\n",
       "20                       Dangerous curve to the right    300\n",
       "36                               Go straight or right    330\n",
       "22                                         Bumpy road    330\n",
       "6                         End of speed limit (80km/h)    360\n",
       "16           Vehicles over 3.5 metric tons prohibited    360\n",
       "34                                    Turn left ahead    360\n",
       "30                                 Beware of ice/snow    390\n",
       "23                                      Slippery road    450\n",
       "28                                  Children crossing    480\n",
       "26                                    Traffic signals    540\n",
       "15                                        No vehicles    540\n",
       "33                                   Turn right ahead    599\n",
       "14                                               Stop    690\n",
       "31                              Wild animals crossing    690\n",
       "17                                           No entry    990\n",
       "18                                    General caution   1080\n",
       "35                                         Ahead only   1080\n",
       "11              Right-of-way at the next intersection   1170\n",
       "3                                Speed limit (60km/h)   1260\n",
       "8                               Speed limit (120km/h)   1260\n",
       "7                               Speed limit (100km/h)   1290\n",
       "9                                          No passing   1320\n",
       "25                                          Road work   1350\n",
       "5                                Speed limit (80km/h)   1650\n",
       "4                                Speed limit (70km/h)   1770\n",
       "10       No passing for vehicles over 3.5 metric tons   1800\n",
       "38                                         Keep right   1860\n",
       "12                                      Priority road   1890\n",
       "13                                              Yield   1920\n",
       "1                                Speed limit (30km/h)   1980\n",
       "2                                Speed limit (50km/h)   2010"
      ]
     },
     "execution_count": 5,
     "metadata": {},
     "output_type": "execute_result"
    },
    {
     "data": {
      "image/png": "[encoded data removed]",
      "text/plain": [
       "<matplotlib.figure.Figure at 0x10c719a20>"
      ]
     },
     "metadata": {},
     "output_type": "display_data"
    }
   ],
   "source": [
    "class_counts.hist(bins=25)\n",
    "print(\"min: \", class_counts.min())\n",
    "print(\"max: \", class_counts.max())\n",
    "class_counts.reset_index().sort_values(by='count')"
   ]
  },
  {
   "cell_type": "code",
   "execution_count": null,
   "metadata": {
    "collapsed": false
   },
   "outputs": [],
   "source": []
  },
  {
   "cell_type": "code",
   "execution_count": null,
   "metadata": {
    "collapsed": false,
    "deletable": true,
    "editable": true
   },
   "outputs": [],
   "source": [
    "from keras.preprocessing.image import ImageDataGenerator\n",
    "datagen = ImageDataGenerator(\n",
    "    featurewise_center=True,\n",
    "    featurewise_std_normalization=True,\n",
    "    rotation_range=20,\n",
    "    width_shift_range=0.2,\n",
    "    height_shift_range=0.2,\n",
    "    horizontal_flip=False\n",
    ")\n",
    "datagen.fit(X_train.astype(float))"
   ]
  },
  {
   "cell_type": "markdown",
   "metadata": {
    "deletable": true,
    "editable": true
   },
   "source": [
    "----\n",
    "\n",
    "## Step 2: Design and Test a Model Architecture\n",
    "\n",
    "Design and implement a deep learning model that learns to recognize traffic signs. Train and test your model on the [German Traffic Sign Dataset](http://benchmark.ini.rub.de/?section=gtsrb&subsection=dataset).\n",
    "\n",
    "The LeNet-5 implementation shown in the [classroom](https://classroom.udacity.com/nanodegrees/nd013/parts/fbf77062-5703-404e-b60c-95b78b2f3f9e/modules/6df7ae49-c61c-4bb2-a23e-6527e69209ec/lessons/601ae704-1035-4287-8b11-e2c2716217ad/concepts/d4aca031-508f-4e0b-b493-e7b706120f81) at the end of the CNN lesson is a solid starting point. You'll have to change the number of classes and possibly the preprocessing, but aside from that it's plug and play! \n",
    "\n",
    "With the LeNet-5 solution from the lecture, you should expect a validation set accuracy of about 0.89. To meet specifications, the validation set accuracy will need to be at least 0.93. It is possible to get an even higher accuracy, but 0.93 is the minimum for a successful project submission. \n",
    "\n",
    "There are various aspects to consider when thinking about this problem:\n",
    "\n",
    "- Neural network architecture (is the network over or underfitting?)\n",
    "- Play around preprocessing techniques (normalization, rgb to grayscale, etc)\n",
    "- Number of examples per label (some have more than others).\n",
    "- Generate fake data.\n",
    "\n",
    "Here is an example of a [published baseline model on this problem](http://yann.lecun.com/exdb/publis/pdf/sermanet-ijcnn-11.pdf). It's not required to be familiar with the approach used in the paper but, it's good practice to try to read papers like these."
   ]
  },
  {
   "cell_type": "markdown",
   "metadata": {
    "deletable": true,
    "editable": true
   },
   "source": [
    "### Pre-process the Data Set (normalization, grayscale, etc.)"
   ]
  },
  {
   "cell_type": "markdown",
   "metadata": {
    "deletable": true,
    "editable": true
   },
   "source": [
    "Minimally, the image data should be normalized so that the data has mean zero and equal variance. For image data, `(pixel - 128)/ 128` is a quick way to approximately normalize the data and can be used in this project. \n",
    "\n",
    "Other pre-processing steps are optional. You can try different techniques to see if it improves performance. \n",
    "\n",
    "Use the code cell (or multiple code cells, if necessary) to implement the first step of your project."
   ]
  },
  {
   "cell_type": "code",
   "execution_count": 8,
   "metadata": {
    "collapsed": false,
    "deletable": true,
    "editable": true
   },
   "outputs": [],
   "source": [
    "### Preprocess the data here. It is required to normalize the data. Other preprocessing steps could include \n",
    "### converting to grayscale, etc.\n",
    "### Feel free to use as many code cells as needed.\n",
    "import cv2\n",
    "import numpy as np\n",
    "import tensorflow as tf\n",
    "\n",
    "def equalizeHistRbg(image): \n",
    "    eq = image.copy()\n",
    "    for dim in range(image.shape[-1]):\n",
    "        eq[:, :, dim] = cv2.equalizeHist(image[:, :, dim])\n",
    "    \n",
    "    return eq\n",
    "\n",
    "def normalize(image):\n",
    "    return (image - 128)/image\n",
    "\n",
    "one_hot_y_train = tf.one_hot(y_train, n_classes)"
   ]
  },
  {
   "cell_type": "markdown",
   "metadata": {
    "deletable": true,
    "editable": true
   },
   "source": [
    "### Model Architecture"
   ]
  },
  {
   "cell_type": "markdown",
   "metadata": {
    "deletable": true,
    "editable": true
   },
   "source": [
    "### Train, Validate and Test the Model"
   ]
  },
  {
   "cell_type": "markdown",
   "metadata": {
    "deletable": true,
    "editable": true
   },
   "source": [
    "A validation set can be used to assess how well the model is performing. A low accuracy on the training and validation\n",
    "sets imply underfitting. A high accuracy on the training set but low accuracy on the validation set implies overfitting."
   ]
  },
  {
   "cell_type": "code",
   "execution_count": null,
   "metadata": {
    "collapsed": false,
    "deletable": true,
    "editable": true
   },
   "outputs": [],
   "source": []
  },
  {
   "cell_type": "code",
   "execution_count": 9,
   "metadata": {
    "collapsed": false,
    "deletable": true,
    "editable": true
   },
   "outputs": [
    {
     "name": "stdout",
     "output_type": "stream",
     "text": [
      "Training...\n",
      "\n",
      "EPOCH 1 ...\n",
      "Validation Accuracy = 0.437\n",
      "\n",
      "EPOCH 2 ...\n",
      "Validation Accuracy = 0.731\n",
      "\n",
      "EPOCH 3 ...\n",
      "Validation Accuracy = 0.808\n",
      "\n",
      "EPOCH 4 ...\n",
      "Validation Accuracy = 0.873\n",
      "\n",
      "EPOCH 5 ...\n",
      "Validation Accuracy = 0.887\n",
      "\n",
      "EPOCH 6 ...\n",
      "Validation Accuracy = 0.898\n",
      "\n",
      "EPOCH 7 ...\n",
      "Validation Accuracy = 0.902\n",
      "\n",
      "EPOCH 8 ...\n",
      "Validation Accuracy = 0.900\n",
      "\n",
      "EPOCH 9 ...\n",
      "Validation Accuracy = 0.918\n",
      "\n",
      "EPOCH 10 ...\n",
      "Validation Accuracy = 0.915\n",
      "\n",
      "EPOCH 11 ...\n",
      "Validation Accuracy = 0.917\n",
      "\n",
      "EPOCH 12 ...\n",
      "Validation Accuracy = 0.914\n",
      "\n",
      "EPOCH 13 ...\n",
      "Validation Accuracy = 0.918\n",
      "\n",
      "EPOCH 14 ...\n",
      "Validation Accuracy = 0.927\n",
      "\n",
      "EPOCH 15 ...\n",
      "Validation Accuracy = 0.926\n",
      "\n",
      "EPOCH 16 ...\n",
      "Validation Accuracy = 0.924\n",
      "\n",
      "EPOCH 17 ...\n",
      "Validation Accuracy = 0.925\n",
      "\n",
      "EPOCH 18 ...\n",
      "Validation Accuracy = 0.925\n",
      "\n",
      "EPOCH 19 ...\n",
      "Validation Accuracy = 0.927\n",
      "\n",
      "EPOCH 20 ...\n",
      "Validation Accuracy = 0.937\n",
      "\n",
      "EPOCH 21 ...\n",
      "Validation Accuracy = 0.933\n",
      "\n",
      "EPOCH 22 ...\n",
      "Validation Accuracy = 0.929\n",
      "\n",
      "EPOCH 23 ...\n",
      "Validation Accuracy = 0.936\n",
      "\n",
      "EPOCH 24 ...\n",
      "Validation Accuracy = 0.932\n",
      "\n",
      "EPOCH 25 ...\n",
      "Validation Accuracy = 0.889\n",
      "\n",
      "EPOCH 26 ...\n",
      "Validation Accuracy = 0.917\n",
      "\n",
      "EPOCH 27 ...\n",
      "Validation Accuracy = 0.920\n",
      "\n",
      "EPOCH 28 ...\n",
      "Validation Accuracy = 0.937\n",
      "\n",
      "EPOCH 29 ...\n",
      "Validation Accuracy = 0.941\n",
      "\n",
      "EPOCH 30 ...\n",
      "Validation Accuracy = 0.943\n",
      "\n",
      "EPOCH 31 ...\n",
      "Validation Accuracy = 0.942\n",
      "\n",
      "EPOCH 32 ...\n",
      "Validation Accuracy = 0.943\n",
      "\n",
      "EPOCH 33 ...\n",
      "Validation Accuracy = 0.943\n",
      "\n",
      "EPOCH 34 ...\n",
      "Validation Accuracy = 0.944\n",
      "\n",
      "EPOCH 35 ...\n",
      "Validation Accuracy = 0.944\n",
      "\n",
      "EPOCH 36 ...\n",
      "Validation Accuracy = 0.945\n",
      "\n",
      "EPOCH 37 ...\n",
      "Validation Accuracy = 0.945\n",
      "\n",
      "EPOCH 38 ...\n",
      "Validation Accuracy = 0.946\n",
      "\n",
      "EPOCH 39 ...\n",
      "Validation Accuracy = 0.945\n",
      "\n",
      "EPOCH 40 ...\n",
      "Validation Accuracy = 0.945\n",
      "\n",
      "EPOCH 41 ...\n",
      "Validation Accuracy = 0.945\n",
      "\n",
      "EPOCH 42 ...\n",
      "Validation Accuracy = 0.945\n",
      "\n",
      "EPOCH 43 ...\n",
      "Validation Accuracy = 0.946\n",
      "\n",
      "EPOCH 44 ...\n",
      "Validation Accuracy = 0.945\n",
      "\n",
      "EPOCH 45 ...\n",
      "Validation Accuracy = 0.946\n",
      "\n",
      "EPOCH 46 ...\n",
      "Validation Accuracy = 0.946\n",
      "\n",
      "EPOCH 47 ...\n",
      "Validation Accuracy = 0.946\n",
      "\n",
      "EPOCH 48 ...\n",
      "Validation Accuracy = 0.946\n",
      "\n",
      "EPOCH 49 ...\n",
      "Validation Accuracy = 0.946\n",
      "\n",
      "EPOCH 50 ...\n",
      "Validation Accuracy = 0.947\n",
      "\n",
      "EPOCH 51 ...\n",
      "Validation Accuracy = 0.946\n",
      "\n",
      "EPOCH 52 ...\n",
      "Validation Accuracy = 0.946\n",
      "\n",
      "EPOCH 53 ...\n",
      "Validation Accuracy = 0.946\n",
      "\n",
      "EPOCH 54 ...\n",
      "Validation Accuracy = 0.946\n",
      "\n",
      "EPOCH 55 ...\n",
      "Validation Accuracy = 0.946\n",
      "\n",
      "EPOCH 56 ...\n",
      "Validation Accuracy = 0.946\n",
      "\n",
      "EPOCH 57 ...\n",
      "Validation Accuracy = 0.946\n",
      "\n",
      "EPOCH 58 ...\n",
      "Validation Accuracy = 0.946\n",
      "\n",
      "EPOCH 59 ...\n",
      "Validation Accuracy = 0.946\n",
      "\n",
      "EPOCH 60 ...\n",
      "Validation Accuracy = 0.947\n",
      "\n",
      "EPOCH 61 ...\n",
      "Validation Accuracy = 0.947\n",
      "\n",
      "EPOCH 62 ...\n",
      "Validation Accuracy = 0.945\n",
      "\n",
      "EPOCH 63 ...\n",
      "Validation Accuracy = 0.946\n",
      "\n",
      "EPOCH 64 ...\n",
      "Validation Accuracy = 0.946\n",
      "\n",
      "EPOCH 65 ...\n",
      "Validation Accuracy = 0.946\n",
      "\n",
      "EPOCH 66 ...\n",
      "Validation Accuracy = 0.946\n",
      "\n",
      "EPOCH 67 ...\n",
      "Validation Accuracy = 0.945\n",
      "\n",
      "EPOCH 68 ...\n",
      "Validation Accuracy = 0.946\n",
      "\n",
      "EPOCH 69 ...\n",
      "Validation Accuracy = 0.946\n",
      "\n",
      "EPOCH 70 ...\n",
      "Validation Accuracy = 0.945\n",
      "\n",
      "EPOCH 71 ...\n",
      "Validation Accuracy = 0.946\n",
      "\n",
      "EPOCH 72 ...\n",
      "Validation Accuracy = 0.946\n",
      "\n",
      "EPOCH 73 ...\n",
      "Validation Accuracy = 0.946\n",
      "\n",
      "EPOCH 74 ...\n",
      "Validation Accuracy = 0.946\n",
      "\n",
      "EPOCH 75 ...\n",
      "Validation Accuracy = 0.945\n",
      "\n",
      "EPOCH 76 ...\n",
      "Validation Accuracy = 0.946\n",
      "\n",
      "EPOCH 77 ...\n",
      "Validation Accuracy = 0.946\n",
      "\n",
      "EPOCH 78 ...\n",
      "Validation Accuracy = 0.946\n",
      "\n",
      "EPOCH 79 ...\n",
      "Validation Accuracy = 0.946\n",
      "\n",
      "EPOCH 80 ...\n",
      "Validation Accuracy = 0.946\n",
      "\n",
      "EPOCH 81 ...\n",
      "Validation Accuracy = 0.946\n",
      "\n",
      "EPOCH 82 ...\n",
      "Validation Accuracy = 0.947\n",
      "\n",
      "EPOCH 83 ...\n",
      "Validation Accuracy = 0.946\n",
      "\n",
      "EPOCH 84 ...\n",
      "Validation Accuracy = 0.947\n",
      "\n",
      "EPOCH 85 ...\n",
      "Validation Accuracy = 0.947\n",
      "\n",
      "EPOCH 86 ...\n",
      "Validation Accuracy = 0.947\n",
      "\n",
      "EPOCH 87 ...\n",
      "Validation Accuracy = 0.947\n",
      "\n",
      "EPOCH 88 ...\n",
      "Validation Accuracy = 0.947\n",
      "\n",
      "EPOCH 89 ...\n",
      "Validation Accuracy = 0.947\n",
      "\n",
      "EPOCH 90 ...\n",
      "Validation Accuracy = 0.947\n",
      "\n",
      "EPOCH 91 ...\n",
      "Validation Accuracy = 0.947\n",
      "\n",
      "EPOCH 92 ...\n",
      "Validation Accuracy = 0.946\n",
      "\n",
      "EPOCH 93 ...\n",
      "Validation Accuracy = 0.947\n",
      "\n",
      "EPOCH 94 ...\n",
      "Validation Accuracy = 0.946\n",
      "\n",
      "EPOCH 95 ...\n",
      "Validation Accuracy = 0.946\n",
      "\n",
      "EPOCH 96 ...\n",
      "Validation Accuracy = 0.946\n",
      "\n",
      "EPOCH 97 ...\n",
      "Validation Accuracy = 0.947\n",
      "\n",
      "EPOCH 98 ...\n",
      "Validation Accuracy = 0.947\n",
      "\n",
      "EPOCH 99 ...\n",
      "Validation Accuracy = 0.947\n",
      "\n",
      "EPOCH 100 ...\n",
      "Validation Accuracy = 0.946\n",
      "\n",
      "EPOCH 101 ...\n",
      "Validation Accuracy = 0.947\n",
      "\n",
      "EPOCH 102 ...\n",
      "Validation Accuracy = 0.946\n",
      "\n",
      "EPOCH 103 ...\n",
      "Validation Accuracy = 0.947\n",
      "\n",
      "EPOCH 104 ...\n",
      "Validation Accuracy = 0.947\n",
      "\n",
      "EPOCH 105 ...\n",
      "Validation Accuracy = 0.947\n",
      "\n",
      "EPOCH 106 ...\n",
      "Validation Accuracy = 0.947\n",
      "\n",
      "EPOCH 107 ...\n",
      "Validation Accuracy = 0.947\n",
      "\n",
      "EPOCH 108 ...\n",
      "Validation Accuracy = 0.947\n",
      "\n",
      "EPOCH 109 ...\n",
      "Validation Accuracy = 0.946\n",
      "\n",
      "EPOCH 110 ...\n",
      "Validation Accuracy = 0.947\n",
      "\n",
      "EPOCH 111 ...\n",
      "Validation Accuracy = 0.947\n",
      "\n",
      "EPOCH 112 ...\n",
      "Validation Accuracy = 0.947\n",
      "\n",
      "EPOCH 113 ...\n",
      "Validation Accuracy = 0.947\n",
      "\n",
      "EPOCH 114 ...\n",
      "Validation Accuracy = 0.947\n",
      "\n",
      "EPOCH 115 ...\n",
      "Validation Accuracy = 0.947\n",
      "\n",
      "EPOCH 116 ...\n",
      "Validation Accuracy = 0.947\n",
      "\n",
      "EPOCH 117 ...\n",
      "Validation Accuracy = 0.947\n",
      "\n",
      "EPOCH 118 ...\n",
      "Validation Accuracy = 0.947\n",
      "\n",
      "EPOCH 119 ...\n",
      "Validation Accuracy = 0.947\n",
      "\n",
      "EPOCH 120 ...\n",
      "Validation Accuracy = 0.947\n",
      "\n",
      "Model saved\n"
     ]
    }
   ],
   "source": [
    "import tensorflow as tf\n",
    "from tensorflow.contrib.layers import flatten\n",
    "from sklearn.utils import shuffle\n",
    "import cv2\n",
    "\n",
    "EPOCHS = 120\n",
    "BATCH_SIZE = 1024\n",
    "\n",
    "def conv_layer(x, kernel_size, stride, depth, padding='VALID', mu=0, sigma=0.1, name=\"\"):\n",
    "    W = tf.get_variable(\"W_c_{}\".format(name),\n",
    "        initializer=tf.contrib.layers.xavier_initializer_conv2d(),\n",
    "            shape=(kernel_size, kernel_size, x.get_shape().as_list()[-1], depth)\n",
    "        )\n",
    "    b = tf.Variable(tf.zeros(depth))\n",
    "    conv = tf.nn.conv2d(x, W, strides=[1, stride, stride, 1], padding=padding) + b\n",
    "    return conv\n",
    "\n",
    "def max_pool_layer(x, kernel_size, stride, padding='VALID'): \n",
    "    return tf.nn.max_pool(\n",
    "        x, \n",
    "        ksize=[1, kernel_size, kernel_size, 1], \n",
    "        strides=[1, stride, stride, 1], \n",
    "        padding=padding\n",
    "    )\n",
    "\n",
    "def dense_layer(x, depth, mu=0, sigma=0.1, name=\"\"):\n",
    "    W = tf.get_variable(\"W_d_{}\".format(name), \n",
    "        initializer=tf.contrib.layers.xavier_initializer(), \n",
    "        shape=(x.get_shape().as_list()[-1], depth)\n",
    "                       )\n",
    "    b = tf.Variable(tf.zeros(depth))\n",
    "    return tf.matmul(x, W) + b\n",
    "\n",
    "def dropout_layer(x, keep_prob=0.5): \n",
    "    tf.nn.dropout(x, keep_prob)\n",
    "\n",
    "def LeNet(x, num_classes):    \n",
    "    # Arguments used for tf.truncated_normal, randomly defines variables for the weights and biases for each layer\n",
    "    mu = 0\n",
    "    sigma = 0.1\n",
    "    \n",
    "    # Layer 1: Convolutional + MaxPooling. Input = 32x32x1. Output = 28x28x6.\n",
    "    with tf.variable_scope('conv1'): \n",
    "        conv1 = conv_layer(x, kernel_size=5, stride=1, depth=16, padding='VALID', mu=mu, sigma=sigma, name='conv1')\n",
    "        conv1 = tf.nn.relu(conv1)\n",
    "        conv1 = max_pool_layer(conv1, kernel_size=2, stride=2, padding='VALID')\n",
    "\n",
    "    # Layer 2: Convolutional + MaxPooling. \n",
    "    with tf.variable_scope('conv2'):\n",
    "        conv2 = conv_layer(conv1, kernel_size=5, stride=1, depth=64, padding='VALID', mu=mu, sigma=sigma, name='conv2')\n",
    "        conv2 = tf.nn.relu(conv2)\n",
    "        conv2 = max_pool_layer(conv2, kernel_size=2, stride=2, padding='VALID')\n",
    "\n",
    "    # Layer 3: Convolutional + MaxPooling.         \n",
    "    with tf.variable_scope('conv3'):\n",
    "        conv3 = conv_layer(conv2, kernel_size=5, stride=1, depth=256, padding='VALID', mu=mu, sigma=sigma, name='conv3')\n",
    "        conv3 = tf.nn.relu(conv3)\n",
    "        conv3 = max_pool_layer(conv3, kernel_size=1, stride=1, padding='VALID')\n",
    "\n",
    "    # Flatten.\n",
    "    fc0 = flatten(conv3)\n",
    "    \n",
    "    # Dense 1: Fully Connected + Activation\n",
    "    fc1 = dense_layer(fc0, depth=512, mu=mu, sigma=sigma, name='fc1')    \n",
    "    fc1 = tf.nn.relu(fc1)\n",
    "\n",
    "    # Dense 2: Fully Connected + Activation\n",
    "    fc2 = dense_layer(fc1, depth=256, mu=mu, sigma=sigma, name='fc2')\n",
    "    fc2 = tf.nn.relu(fc2)\n",
    "    \n",
    "    fc3 = dense_layer(fc2, depth=128, mu=mu, sigma=sigma, name='fc3')\n",
    "    fc3 = tf.nn.relu(fc3)\n",
    "    \n",
    "    # Layer 5: Fully Connected + Activation. Output = 43.\n",
    "    logits = dense_layer(fc3, depth=num_classes, mu=mu, sigma=sigma)\n",
    "    \n",
    "    return logits\n",
    "\n",
    "num_classes = 43\n",
    "x = tf.placeholder(tf.float32, (None, 32, 32, 3))\n",
    "y = tf.placeholder(tf.int32, (None))\n",
    "one_hot_y = tf.one_hot(y, num_classes)\n",
    "\n",
    "rate = 0.001\n",
    "\n",
    "logits = LeNet(x, num_classes=num_classes)\n",
    "cross_entropy = tf.nn.softmax_cross_entropy_with_logits(labels=one_hot_y, logits=logits)\n",
    "loss_operation = tf.reduce_mean(cross_entropy)\n",
    "optimizer = tf.train.AdamOptimizer(learning_rate = rate)\n",
    "training_operation = optimizer.minimize(loss_operation)\n",
    "\n",
    "correct_prediction = tf.equal(tf.argmax(logits, 1), tf.argmax(one_hot_y, 1))\n",
    "accuracy_operation = tf.reduce_mean(tf.cast(correct_prediction, tf.float32))\n",
    "saver = tf.train.Saver()\n",
    "\n",
    "def evaluate(X_data, y_data):\n",
    "    num_examples = len(X_data)\n",
    "    total_accuracy = 0\n",
    "    sess = tf.get_default_session()\n",
    "    for offset in range(0, num_examples, BATCH_SIZE):\n",
    "        batch_x = [equalizeHistRbg(x) for x in X_data[offset:offset+BATCH_SIZE]]\n",
    "        batch_y = y_data[offset:offset+BATCH_SIZE]\n",
    "        accuracy = sess.run(accuracy_operation, feed_dict={x: batch_x, y: batch_y})\n",
    "        total_accuracy += (accuracy * len(batch_x))\n",
    "    return total_accuracy / num_examples\n",
    "\n",
    "\n",
    "with tf.Session() as sess:\n",
    "    sess.run(tf.global_variables_initializer())\n",
    "    num_examples = len(X_train)\n",
    "    \n",
    "    print(\"Training...\")\n",
    "    print()\n",
    "    for i in range(EPOCHS):\n",
    "        X_train, y_train = shuffle(X_train, y_train)\n",
    "        for offset in range(0, num_examples, BATCH_SIZE):\n",
    "            end = offset + BATCH_SIZE\n",
    "            dst = np.zeros((512, 512))\n",
    "            batch_x = [equalizeHistRbg(x) for x in X_train[offset:end]]\n",
    "            batch_y = y_train[offset:end]\n",
    "            sess.run(training_operation, feed_dict={x: batch_x, y: batch_y})\n",
    "            \n",
    "        validation_accuracy = evaluate(X_valid, y_valid)\n",
    "        print(\"EPOCH {} ...\".format(i+1))\n",
    "        print(\"Validation Accuracy = {:.3f}\".format(validation_accuracy))\n",
    "        print()\n",
    "        \n",
    "    saver.save(sess, './lenet_deeper')\n",
    "    print(\"Model saved\")"
   ]
  },
  {
   "cell_type": "markdown",
   "metadata": {
    "collapsed": false,
    "deletable": true,
    "editable": true
   },
   "source": [
    "## Training and Testing Accuracy"
   ]
  },
  {
   "cell_type": "code",
   "execution_count": 12,
   "metadata": {
    "collapsed": false
   },
   "outputs": [
    {
     "name": "stdout",
     "output_type": "stream",
     "text": [
      "INFO:tensorflow:Restoring parameters from ./lenet_deeper\n",
      "Train Accuracy = 1.000\n"
     ]
    }
   ],
   "source": [
    "# Training accuracy\n",
    "with tf.Session() as sess:\n",
    "    saver.restore(sess, tf.train.latest_checkpoint('.'))\n",
    "    train_accuracy = evaluate(\n",
    "        X_train, \n",
    "        y_train\n",
    "    )\n",
    "    print(\"Train Accuracy = {:.3f}\".format(train_accuracy))"
   ]
  },
  {
   "cell_type": "code",
   "execution_count": 11,
   "metadata": {
    "collapsed": false
   },
   "outputs": [
    {
     "name": "stdout",
     "output_type": "stream",
     "text": [
      "INFO:tensorflow:Restoring parameters from ./lenet_deeper\n",
      "Test Accuracy = 0.910\n"
     ]
    }
   ],
   "source": [
    "# Testing accuracy\n",
    "with tf.Session() as sess:\n",
    "    saver.restore(sess, tf.train.latest_checkpoint('.'))\n",
    "    test_accuracy = evaluate(\n",
    "        X_test, \n",
    "        y_test\n",
    "    )\n",
    "    print(\"Test Accuracy = {:.3f}\".format(test_accuracy))"
   ]
  },
  {
   "cell_type": "markdown",
   "metadata": {
    "deletable": true,
    "editable": true
   },
   "source": [
    "---\n",
    "\n",
    "## Step 3: Test a Model on New Images\n",
    "\n",
    "To give yourself more insight into how your model is working, download at least five pictures of German traffic signs from the web and use your model to predict the traffic sign type.\n",
    "\n",
    "You may find `signnames.csv` useful as it contains mappings from the class id (integer) to the actual sign name."
   ]
  },
  {
   "cell_type": "markdown",
   "metadata": {
    "deletable": true,
    "editable": true
   },
   "source": [
    "### Load and Output the Images"
   ]
  },
  {
   "cell_type": "code",
   "execution_count": 7,
   "metadata": {
    "collapsed": false,
    "deletable": true,
    "editable": true
   },
   "outputs": [
    {
     "ename": "NameError",
     "evalue": "name 'cv2' is not defined",
     "output_type": "error",
     "traceback": [
      "\u001b[0;31m---------------------------------------------------------------------------\u001b[0m",
      "\u001b[0;31mNameError\u001b[0m                                 Traceback (most recent call last)",
      "\u001b[0;32m<ipython-input-7-7550931f0257>\u001b[0m in \u001b[0;36m<module>\u001b[0;34m()\u001b[0m\n\u001b[1;32m     20\u001b[0m \u001b[0;32mfor\u001b[0m \u001b[0mim\u001b[0m \u001b[0;32min\u001b[0m \u001b[0mlabeled_images\u001b[0m\u001b[0;34m:\u001b[0m\u001b[0;34m\u001b[0m\u001b[0m\n\u001b[1;32m     21\u001b[0m     \u001b[0my_test_external\u001b[0m\u001b[0;34m[\u001b[0m\u001b[0mim_count\u001b[0m\u001b[0;34m]\u001b[0m \u001b[0;34m=\u001b[0m \u001b[0mint\u001b[0m\u001b[0;34m(\u001b[0m\u001b[0mre\u001b[0m\u001b[0;34m.\u001b[0m\u001b[0msearch\u001b[0m\u001b[0;34m(\u001b[0m\u001b[0;34mr'^class(.*)_(.*)_image(.*)'\u001b[0m\u001b[0;34m,\u001b[0m \u001b[0mim\u001b[0m\u001b[0;34m.\u001b[0m\u001b[0msplit\u001b[0m\u001b[0;34m(\u001b[0m\u001b[0;34m'/'\u001b[0m\u001b[0;34m)\u001b[0m\u001b[0;34m[\u001b[0m\u001b[0;34m-\u001b[0m\u001b[0;36m1\u001b[0m\u001b[0;34m]\u001b[0m\u001b[0;34m)\u001b[0m\u001b[0;34m.\u001b[0m\u001b[0mgroup\u001b[0m\u001b[0;34m(\u001b[0m\u001b[0;36m1\u001b[0m\u001b[0;34m)\u001b[0m\u001b[0;34m)\u001b[0m\u001b[0;34m\u001b[0m\u001b[0m\n\u001b[0;32m---> 22\u001b[0;31m     \u001b[0mX_test_external\u001b[0m\u001b[0;34m[\u001b[0m\u001b[0mim_count\u001b[0m\u001b[0;34m]\u001b[0m \u001b[0;34m=\u001b[0m \u001b[0mcv2\u001b[0m\u001b[0;34m.\u001b[0m\u001b[0mresize\u001b[0m\u001b[0;34m(\u001b[0m\u001b[0mmpimg\u001b[0m\u001b[0;34m.\u001b[0m\u001b[0mimread\u001b[0m\u001b[0;34m(\u001b[0m\u001b[0mim\u001b[0m\u001b[0;34m)\u001b[0m\u001b[0;34m,\u001b[0m \u001b[0;34m(\u001b[0m\u001b[0;36m32\u001b[0m\u001b[0;34m,\u001b[0m \u001b[0;36m32\u001b[0m\u001b[0;34m)\u001b[0m\u001b[0;34m)\u001b[0m\u001b[0;34m.\u001b[0m\u001b[0mastype\u001b[0m\u001b[0;34m(\u001b[0m\u001b[0;34m'uint8'\u001b[0m\u001b[0;34m)\u001b[0m\u001b[0;34m\u001b[0m\u001b[0m\n\u001b[0m\u001b[1;32m     23\u001b[0m     \u001b[0mim_count\u001b[0m \u001b[0;34m+=\u001b[0m \u001b[0;36m1\u001b[0m\u001b[0;34m\u001b[0m\u001b[0m\n",
      "\u001b[0;31mNameError\u001b[0m: name 'cv2' is not defined"
     ]
    }
   ],
   "source": [
    "from itertools import chain\n",
    "import pandas as pd\n",
    "import os\n",
    "import re\n",
    "import matplotlib.image as mpimg\n",
    "import skimage\n",
    "from skimage import exposure\n",
    "signname_dict = signname['SignName'].to_dict()\n",
    "test_images_path = 'traffic_external_test_images'\n",
    "labeled_images = list(chain(*[\n",
    "    [os.path.join(test_images_path, d, f) for f in os.listdir(os.path.join(test_images_path, d))] \n",
    "    for d in os.listdir(test_images_path) \n",
    "    if os.path.isdir(os.path.join(test_images_path, d))\n",
    "                 ]))\n",
    "labeled_images = [m for m in labeled_images if re.search(r'^class(.*)_(.*)_image(.*)', m.split('/')[-1])]\n",
    "# Load image as\n",
    "X_test_external = np.ndarray((len(labeled_images), 32, 32, 3), dtype='uint8')\n",
    "y_test_external = np.ndarray((len(labeled_images)), dtype='int')\n",
    "im_count = 0\n",
    "for im in labeled_images:\n",
    "    y_test_external[im_count] = int(re.search(r'^class(.*)_(.*)_image(.*)', im.split('/')[-1]).group(1))\n",
    "    X_test_external[im_count] = cv2.resize(mpimg.imread(im), (32, 32)).astype('uint8')\n",
    "    im_count += 1"
   ]
  },
  {
   "cell_type": "code",
   "execution_count": null,
   "metadata": {
    "collapsed": false,
    "deletable": true,
    "editable": true
   },
   "outputs": [],
   "source": [
    "### Load the images and plot them here.\n",
    "### Feel free to use as many code cells as needed.\n",
    "f3, axes3 = plt.subplots(5, 5, sharex='col', sharey='row', figsize=(24, 24))\n",
    "for xarray, ytrue, ax in zip(X_test_external, y_test_external, chain(*axes3)):\n",
    "    ax.imshow(xarray)\n",
    "    ax.set_title(signname_dict[ytrue])"
   ]
  },
  {
   "cell_type": "markdown",
   "metadata": {
    "deletable": true,
    "editable": true
   },
   "source": [
    "### Predict the Sign Type for Each Image"
   ]
  },
  {
   "cell_type": "code",
   "execution_count": null,
   "metadata": {
    "collapsed": false,
    "deletable": true,
    "editable": true
   },
   "outputs": [],
   "source": [
    "### Run the predictions here and use the model to output the prediction for each image.\n",
    "### Make sure to pre-process the images with the same pre-processing pipeline used earlier.\n",
    "### Feel free to use as many code cells as needed.\n",
    "\n",
    "with tf.Session() as sess:\n",
    "    sess = tf.get_default_session()\n",
    "    saver.restore(sess, tf.train.latest_checkpoint('.'))\n",
    "    predictions = sess.run(tf.argmax(logits, 1), feed_dict={x: X_test_external.astype('uint32')})"
   ]
  },
  {
   "cell_type": "code",
   "execution_count": null,
   "metadata": {
    "collapsed": false,
    "deletable": true,
    "editable": true
   },
   "outputs": [],
   "source": [
    "# Visualize misclassified images\n",
    "# signname\n",
    "data_with_predictions = pd.DataFrame(\n",
    "    list(zip(y_test_external, predictions, X_test_external)), \n",
    "    columns = ['y_true', 'y_pred', 'xarray']\n",
    ")\n",
    "misclassified = data_with_predictions[data_with_predictions['y_true'] != data_with_predictions['y_pred']]\n",
    "f4, axes4 = plt.subplots(3, 3, sharex='col', sharey='row', figsize=(15, 15))\n",
    "misclassified['ax'] = list(chain(*axes4))[:len(misclassified)]\n",
    "misclassified\n",
    "for idx, row in misclassified.iterrows():\n",
    "    ax = row['ax']\n",
    "    ax.imshow(row['xarray'])\n",
    "    predicted_sign = signname_dict[row['y_pred']]\n",
    "    actual_sign = signname_dict[row['y_true']]\n",
    "    ax.set_title(\"truth: {}, \\n pred: {}\".format(actual_sign, predicted_sign))"
   ]
  },
  {
   "cell_type": "markdown",
   "metadata": {
    "deletable": true,
    "editable": true
   },
   "source": [
    "### Analyze Performance"
   ]
  },
  {
   "cell_type": "code",
   "execution_count": null,
   "metadata": {
    "collapsed": false,
    "deletable": true,
    "editable": true
   },
   "outputs": [],
   "source": [
    "### Calculate the accuracy for these 5 new images. \n",
    "### For example, if the model predicted 1 out of 5 signs correctly, it's 20% accurate on these new images.\n",
    "\n",
    "with tf.Session() as sess:\n",
    "    saver.restore(sess, tf.train.latest_checkpoint('.'))\n",
    "    test_accuracy = evaluate(\n",
    "        X_test_external, \n",
    "        y_test_external\n",
    "    )\n",
    "    print(\"Test Accuracy = {:.3f}\".format(test_accuracy))"
   ]
  },
  {
   "cell_type": "code",
   "execution_count": null,
   "metadata": {
    "collapsed": false,
    "deletable": true,
    "editable": true
   },
   "outputs": [],
   "source": [
    "### Training set accuracy by class\n",
    "from sklearn.metrics import confusion_matrix\n",
    "\n",
    "test_accuracy_by_class = {}\n",
    "with tf.Session() as sess:\n",
    "    saver.restore(sess, tf.train.latest_checkpoint('.'))\n",
    "    for sign_class in signname_dict: \n",
    "        class_X_train = X_train[np.where(y_train==sign_class)]\n",
    "        class_X_test = X_test[np.where(y_test==sign_class)]\n",
    "        class_training_accuracy = evaluate(\n",
    "            class_X_train, \n",
    "            y_train[np.where(y_train==sign_class)]\n",
    "        )\n",
    "        class_testing_accuracy = evaluate(\n",
    "            class_X_test, \n",
    "            y_test[np.where(y_test==sign_class)]\n",
    "        )\n",
    "        test_accuracy_by_class[sign_class] = class_testing_accuracy\n",
    "        print(\"Testing accuracy : \", signname_dict[sign_class], class_X_test.shape[0], class_testing_accuracy)\n",
    "        \n",
    "    testing_predictions = sess.run(tf.argmax(logits, 1), feed_dict={x: X_test})"
   ]
  },
  {
   "cell_type": "code",
   "execution_count": null,
   "metadata": {
    "collapsed": false,
    "deletable": true,
    "editable": true
   },
   "outputs": [],
   "source": [
    "import seaborn as sns\n",
    "testing_confusion = confusion_matrix(y_test, testing_predictions)\n",
    "testing_confusion = testing_confusion.astype('float') / testing_confusion.sum(axis=1)[:, np.newaxis]\n",
    "testing_confusion_df = pd.DataFrame(testing_confusion, columns=signname_dict.values(), index=signname_dict.values())\n",
    "fig, ax = plt.subplots(figsize=(16, 12))\n",
    "sns.heatmap(testing_confusion_df)"
   ]
  },
  {
   "cell_type": "code",
   "execution_count": null,
   "metadata": {
    "collapsed": false,
    "deletable": true,
    "editable": true
   },
   "outputs": [],
   "source": [
    "# Accuracy as a function of Training set size\n",
    "import seaborn as sns\n",
    "from seaborn import lmplot\n",
    "\n",
    "training_set_stat = compute_dataset_stat(y_train).rename(columns={'count':'training set size'})\n",
    "training_set_stat['Accuracy'] = pd.Series(test_accuracy_by_class)\n",
    "to_plot = training_set_stat.set_index('SignName')[['training set size', 'Accuracy']]\n",
    "sns.set_context(\"poster\", font_scale=1.1, rc={'figsize':(8, 6)})\n",
    "plt.figure(figsize=(8, 6))\n",
    "ax = sns.lmplot(x=\"training set size\", y=\"Accuracy\", data=to_plot, fit_reg=False)\n"
   ]
  },
  {
   "cell_type": "markdown",
   "metadata": {
    "deletable": true,
    "editable": true
   },
   "source": [
    "### Output Top 5 Softmax Probabilities For Each Image Found on the Web"
   ]
  },
  {
   "cell_type": "markdown",
   "metadata": {
    "deletable": true,
    "editable": true
   },
   "source": [
    "For each of the new images, print out the model's softmax probabilities to show the **certainty** of the model's predictions (limit the output to the top 5 probabilities for each image). [`tf.nn.top_k`](https://www.tensorflow.org/versions/r0.12/api_docs/python/nn.html#top_k) could prove helpful here. \n",
    "\n",
    "The example below demonstrates how tf.nn.top_k can be used to find the top k predictions for each image.\n",
    "\n",
    "`tf.nn.top_k` will return the values and indices (class ids) of the top k predictions. So if k=3, for each sign, it'll return the 3 largest probabilities (out of a possible 43) and the correspoding class ids.\n",
    "\n",
    "Take this numpy array as an example. The values in the array represent predictions. The array contains softmax probabilities for five candidate images with six possible classes. `tf.nn.top_k` is used to choose the three classes with the highest probability:\n",
    "\n",
    "```\n",
    "# (5, 6) array\n",
    "a = np.array([[ 0.24879643,  0.07032244,  0.12641572,  0.34763842,  0.07893497,\n",
    "         0.12789202],\n",
    "       [ 0.28086119,  0.27569815,  0.08594638,  0.0178669 ,  0.18063401,\n",
    "         0.15899337],\n",
    "       [ 0.26076848,  0.23664738,  0.08020603,  0.07001922,  0.1134371 ,\n",
    "         0.23892179],\n",
    "       [ 0.11943333,  0.29198961,  0.02605103,  0.26234032,  0.1351348 ,\n",
    "         0.16505091],\n",
    "       [ 0.09561176,  0.34396535,  0.0643941 ,  0.16240774,  0.24206137,\n",
    "         0.09155967]])\n",
    "```\n",
    "\n",
    "Running it through `sess.run(tf.nn.top_k(tf.constant(a), k=3))` produces:\n",
    "\n",
    "```\n",
    "TopKV2(values=array([[ 0.34763842,  0.24879643,  0.12789202],\n",
    "       [ 0.28086119,  0.27569815,  0.18063401],\n",
    "       [ 0.26076848,  0.23892179,  0.23664738],\n",
    "       [ 0.29198961,  0.26234032,  0.16505091],\n",
    "       [ 0.34396535,  0.24206137,  0.16240774]]), indices=array([[3, 0, 5],\n",
    "       [0, 1, 4],\n",
    "       [0, 5, 1],\n",
    "       [1, 3, 5],\n",
    "       [1, 4, 3]], dtype=int32))\n",
    "```\n",
    "\n",
    "Looking just at the first row we get `[ 0.34763842,  0.24879643,  0.12789202]`, you can confirm these are the 3 largest probabilities in `a`. You'll also notice `[3, 0, 5]` are the corresponding indices."
   ]
  },
  {
   "cell_type": "code",
   "execution_count": null,
   "metadata": {
    "collapsed": false,
    "deletable": true,
    "editable": true
   },
   "outputs": [],
   "source": [
    "### Print out the top five softmax probabilities for the predictions on the German traffic sign images found on the web. \n",
    "### Feel free to use as many code cells as needed.\n",
    "import operator\n",
    "import heapq\n",
    "import json\n",
    "\n",
    "def top_n_class(prob, num_top_n=2):    \n",
    "    top_n = [(signname_dict[i], prob[i]) for i in np.argsort(prob)[::-1]][:num_top_n]\n",
    "    return top_n\n",
    "\n",
    "with tf.Session() as sess:\n",
    "    sess = tf.get_default_session()\n",
    "    saver.restore(sess, tf.train.latest_checkpoint('.'))\n",
    "    soft_max_ops = tf.nn.softmax(logits)\n",
    "    predicted_probabilities = soft_max_ops.eval(feed_dict={x: X_test_external.astype('uint32')})\n",
    "    test_data['top_5_prediction'] = [top_n_class(p, num_top_n=5) for p in predicted_probabilities]\n",
    "    \n",
    "for idx, row in test_data.iterrows(): \n",
    "    print(\"Truth  : \", row['Truth_class'])\n",
    "    print(\"Predictions : \\n\", row['top_5_prediction'])\n",
    "    print()"
   ]
  },
  {
   "cell_type": "code",
   "execution_count": null,
   "metadata": {
    "collapsed": false,
    "deletable": true,
    "editable": true
   },
   "outputs": [],
   "source": []
  },
  {
   "cell_type": "markdown",
   "metadata": {
    "deletable": true,
    "editable": true
   },
   "source": [
    "### Project Writeup\n",
    "\n",
    "Once you have completed the code implementation, document your results in a project writeup using this [template](https://github.com/udacity/CarND-Traffic-Sign-Classifier-Project/blob/master/writeup_template.md) as a guide. The writeup can be in a markdown or pdf file. "
   ]
  },
  {
   "cell_type": "markdown",
   "metadata": {
    "deletable": true,
    "editable": true
   },
   "source": [
    "> **Note**: Once you have completed all of the code implementations and successfully answered each question above, you may finalize your work by exporting the iPython Notebook as an HTML document. You can do this by using the menu above and navigating to  \\n\",\n",
    "    \"**File -> Download as -> HTML (.html)**. Include the finished document along with this notebook as your submission."
   ]
  },
  {
   "cell_type": "markdown",
   "metadata": {
    "deletable": true,
    "editable": true
   },
   "source": [
    "---\n",
    "\n",
    "## Step 4 (Optional): Visualize the Neural Network's State with Test Images\n",
    "\n",
    " This Section is not required to complete but acts as an additional excersise for understaning the output of a neural network's weights. While neural networks can be a great learning device they are often referred to as a black box. We can understand what the weights of a neural network look like better by plotting their feature maps. After successfully training your neural network you can see what it's feature maps look like by plotting the output of the network's weight layers in response to a test stimuli image. From these plotted feature maps, it's possible to see what characteristics of an image the network finds interesting. For a sign, maybe the inner network feature maps react with high activation to the sign's boundary outline or to the contrast in the sign's painted symbol.\n",
    "\n",
    " Provided for you below is the function code that allows you to get the visualization output of any tensorflow weight layer you want. The inputs to the function should be a stimuli image, one used during training or a new one you provided, and then the tensorflow variable name that represents the layer's state during the training process, for instance if you wanted to see what the [LeNet lab's](https://classroom.udacity.com/nanodegrees/nd013/parts/fbf77062-5703-404e-b60c-95b78b2f3f9e/modules/6df7ae49-c61c-4bb2-a23e-6527e69209ec/lessons/601ae704-1035-4287-8b11-e2c2716217ad/concepts/d4aca031-508f-4e0b-b493-e7b706120f81) feature maps looked like for it's second convolutional layer you could enter conv2 as the tf_activation variable.\n",
    "\n",
    "For an example of what feature map outputs look like, check out NVIDIA's results in their paper [End-to-End Deep Learning for Self-Driving Cars](https://devblogs.nvidia.com/parallelforall/deep-learning-self-driving-cars/) in the section Visualization of internal CNN State. NVIDIA was able to show that their network's inner weights had high activations to road boundary lines by comparing feature maps from an image with a clear path to one without. Try experimenting with a similar test to show that your trained network's weights are looking for interesting features, whether it's looking at differences in feature maps from images with or without a sign, or even what feature maps look like in a trained network vs a completely untrained one on the same sign image.\n",
    "\n",
    "<figure>\n",
    " <img src=\"visualize_cnn.png\" width=\"380\" alt=\"Combined Image\" />\n",
    " <figcaption>\n",
    " <p></p> \n",
    " <p style=\"text-align: center;\"> Your output should look something like this (above)</p> \n",
    " </figcaption>\n",
    "</figure>\n",
    " <p></p> \n"
   ]
  },
  {
   "cell_type": "code",
   "execution_count": null,
   "metadata": {
    "collapsed": true,
    "deletable": true,
    "editable": true
   },
   "outputs": [],
   "source": [
    "### Visualize your network's feature maps here.\n",
    "### Feel free to use as many code cells as needed.\n",
    "\n",
    "# image_input: the test image being fed into the network to produce the feature maps\n",
    "# tf_activation: should be a tf variable name used during your training procedure that represents the calculated state of a specific weight layer\n",
    "# activation_min/max: can be used to view the activation contrast in more detail, by default matplot sets min and max to the actual min and max values of the output\n",
    "# plt_num: used to plot out multiple different weight feature map sets on the same block, just extend the plt number for each new feature map entry\n",
    "\n",
    "def outputFeatureMap(image_input, tf_activation, activation_min=-1, activation_max=-1 ,plt_num=1):\n",
    "    # Here make sure to preprocess your image_input in a way your network expects\n",
    "    # with size, normalization, ect if needed\n",
    "    # image_input =\n",
    "    # Note: x should be the same name as your network's tensorflow data placeholder variable\n",
    "    # If you get an error tf_activation is not defined it may be having trouble accessing the variable from inside a function\n",
    "#     activation = tf_activation.eval(session=sess,feed_dict={x : image_input})\n",
    "    activation = sess.run(tf_activation, feed_dict={x:image_input})\n",
    "    featuremaps = activation.shape[3]\n",
    "    plt.figure(plt_num, figsize=(15,15))\n",
    "    for featuremap in range(featuremaps):\n",
    "        plt.subplot(6,8, featuremap+1) # sets the number of feature maps to show on each row and column\n",
    "        plt.title('FeatureMap ' + str(featuremap)) # displays the feature map number\n",
    "        if activation_min != -1 & activation_max != -1:\n",
    "            plt.imshow(activation[0,:,:, featuremap], interpolation=\"nearest\", vmin =activation_min, vmax=activation_max, cmap=\"gray\")\n",
    "        elif activation_max != -1:\n",
    "            plt.imshow(activation[0,:,:, featuremap], interpolation=\"nearest\", vmax=activation_max, cmap=\"gray\")\n",
    "        elif activation_min !=-1:\n",
    "            plt.imshow(activation[0,:,:, featuremap], interpolation=\"nearest\", vmin=activation_min, cmap=\"gray\")\n",
    "        else:\n",
    "            plt.imshow(activation[0,:,:, featuremap], interpolation=\"nearest\", cmap=\"gray\")"
   ]
  },
  {
   "cell_type": "code",
   "execution_count": null,
   "metadata": {
    "collapsed": false,
    "deletable": true,
    "editable": true
   },
   "outputs": [],
   "source": [
    "misclassified_X_test = X_test[np.where(y_test != testing_predictions)]\n",
    "conv_layers = [layer for layer in tf.trainable_variables() if re.match('conv(.*)W(.*)', layer.name)]\n",
    "\n",
    "with tf.Session() as sess:\n",
    "    saver.restore(sess, tf.train.latest_checkpoint('.'))\n",
    "    tf_activation = conv_layers[2]\n",
    "    activation = tf_activation.eval(session=sess)\n",
    "#     activation = sess.run(tf_activation, feed_dict={x:X_test[0]})\n",
    "    featuremaps = activation.shape[3]\n",
    "    plt.figure(plt_num, figsize=(15,15))\n",
    "    for featuremap in range(min(25, featuremaps)):\n",
    "        plt.subplot(5,5, featuremap+1) # sets the number of feature maps to show on each row and column\n",
    "        plt.title('FeatureMap ' + str(featuremap)) # displays the feature map number\n",
    "        if activation_min != -1 & activation_max != -1:\n",
    "            plt.imshow(activation[0,:,:, featuremap], interpolation=\"nearest\", vmin =activation_min, vmax=activation_max, cmap=\"gray\")\n",
    "        elif activation_max != -1:\n",
    "            plt.imshow(activation[0,:,:, featuremap], interpolation=\"nearest\", vmax=activation_max, cmap=\"gray\")\n",
    "        elif activation_min !=-1:\n",
    "            plt.imshow(activation[0,:,:, featuremap], interpolation=\"nearest\", vmin=activation_min, cmap=\"gray\")\n",
    "        else:\n",
    "            plt.imshow(activation[0,:,:, featuremap], interpolation=\"nearest\", cmap=\"gray\")"
   ]
  },
  {
   "cell_type": "code",
   "execution_count": null,
   "metadata": {
    "collapsed": false,
    "deletable": true,
    "editable": true
   },
   "outputs": [],
   "source": []
  },
  {
   "cell_type": "code",
   "execution_count": null,
   "metadata": {
    "collapsed": false,
    "deletable": true,
    "editable": true
   },
   "outputs": [],
   "source": [
    "conv_layers"
   ]
  },
  {
   "cell_type": "code",
   "execution_count": null,
   "metadata": {
    "collapsed": true,
    "deletable": true,
    "editable": true
   },
   "outputs": [],
   "source": []
  }
 ],
 "metadata": {
  "anaconda-cloud": {},
  "kernelspec": {
   "display_name": "Python 3",
   "language": "python",
   "name": "python3"
  },
  "language_info": {
   "codemirror_mode": {
    "name": "ipython",
    "version": 3
   },
   "file_extension": ".py",
   "mimetype": "text/x-python",
   "name": "python",
   "nbconvert_exporter": "python",
   "pygments_lexer": "ipython3",
   "version": "3.5.3"
  }
 },
 "nbformat": 4,
 "nbformat_minor": 1
}
